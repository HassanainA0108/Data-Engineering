{
 "cells": [
  {
   "cell_type": "markdown",
   "id": "1cf8c88f",
   "metadata": {},
   "source": [
    "# Fucntion and Modularization"
   ]
  },
  {
   "cell_type": "code",
   "execution_count": 1,
   "id": "0c1bedca",
   "metadata": {},
   "outputs": [],
   "source": [
    "def greet():\n",
    "    print(\"hello World\")\n",
    "    \n",
    "\n"
   ]
  },
  {
   "cell_type": "code",
   "execution_count": 2,
   "id": "d64cf35d",
   "metadata": {},
   "outputs": [
    {
     "name": "stdout",
     "output_type": "stream",
     "text": [
      "hello World\n"
     ]
    }
   ],
   "source": [
    "greet()"
   ]
  },
  {
   "cell_type": "code",
   "execution_count": 6,
   "id": "165aa167",
   "metadata": {},
   "outputs": [],
   "source": [
    "def greet(name):\n",
    "    print(\"Hi There \" + name)"
   ]
  },
  {
   "cell_type": "code",
   "execution_count": 8,
   "id": "b2a47226",
   "metadata": {},
   "outputs": [
    {
     "name": "stdout",
     "output_type": "stream",
     "text": [
      "Hi There Hassanain\n"
     ]
    }
   ],
   "source": [
    "greet(\"Hassanain\")"
   ]
  },
  {
   "cell_type": "code",
   "execution_count": 10,
   "id": "0f100fd7",
   "metadata": {},
   "outputs": [],
   "source": [
    "def add_numbers(nums1, nums2):\n",
    "    return nums1+nums2"
   ]
  },
  {
   "cell_type": "code",
   "execution_count": 11,
   "id": "56252c31",
   "metadata": {},
   "outputs": [
    {
     "name": "stdout",
     "output_type": "stream",
     "text": [
      "30\n"
     ]
    }
   ],
   "source": [
    "sum = add_numbers(10,20)\n",
    "print(sum)"
   ]
  },
  {
   "cell_type": "markdown",
   "id": "26b593b7",
   "metadata": {},
   "source": [
    "# MOdules and Packages"
   ]
  },
  {
   "cell_type": "code",
   "execution_count": 12,
   "id": "921920ee",
   "metadata": {},
   "outputs": [],
   "source": [
    "import math"
   ]
  },
  {
   "cell_type": "code",
   "execution_count": 13,
   "id": "c88f0944",
   "metadata": {},
   "outputs": [
    {
     "name": "stdout",
     "output_type": "stream",
     "text": [
      "4.0\n"
     ]
    }
   ],
   "source": [
    "print(math.sqrt(16))"
   ]
  },
  {
   "cell_type": "code",
   "execution_count": 15,
   "id": "963838f0",
   "metadata": {},
   "outputs": [
    {
     "name": "stdout",
     "output_type": "stream",
     "text": [
      "Defaulting to user installation because normal site-packages is not writeable\n",
      "Requirement already satisfied: pandas in c:\\users\\faiz.zaidi\\appdata\\roaming\\python\\python312\\site-packages (2.2.3)\n",
      "Requirement already satisfied: numpy>=1.26.0 in c:\\users\\faiz.zaidi\\appdata\\roaming\\python\\python312\\site-packages (from pandas) (2.2.6)\n",
      "Requirement already satisfied: python-dateutil>=2.8.2 in c:\\users\\faiz.zaidi\\appdata\\roaming\\python\\python312\\site-packages (from pandas) (2.9.0.post0)\n",
      "Requirement already satisfied: pytz>=2020.1 in c:\\users\\faiz.zaidi\\appdata\\roaming\\python\\python312\\site-packages (from pandas) (2025.2)\n",
      "Requirement already satisfied: tzdata>=2022.7 in c:\\users\\faiz.zaidi\\appdata\\roaming\\python\\python312\\site-packages (from pandas) (2025.2)\n",
      "Requirement already satisfied: six>=1.5 in c:\\users\\faiz.zaidi\\appdata\\roaming\\python\\python312\\site-packages (from python-dateutil>=2.8.2->pandas) (1.17.0)\n"
     ]
    },
    {
     "name": "stderr",
     "output_type": "stream",
     "text": [
      "\n",
      "[notice] A new release of pip is available: 24.0 -> 25.1.1\n",
      "[notice] To update, run: python.exe -m pip install --upgrade pip\n"
     ]
    }
   ],
   "source": [
    "!pip install pandas\n",
    "import pandas as pd"
   ]
  },
  {
   "cell_type": "code",
   "execution_count": 19,
   "id": "227d0351",
   "metadata": {},
   "outputs": [
    {
     "name": "stdout",
     "output_type": "stream",
     "text": [
      "    name  Age\n",
      "0   JOhn   20\n",
      "1   Anna   30\n",
      "2  Peter   30\n"
     ]
    }
   ],
   "source": [
    "data = {'name': ['JOhn', 'Anna', 'Peter'], 'Age': [20,30,30]}\n",
    "df = pd.DataFrame(data)\n",
    "print(df)\n",
    "        "
   ]
  },
  {
   "cell_type": "markdown",
   "id": "97802fb5",
   "metadata": {},
   "source": [
    "# String manupulation"
   ]
  },
  {
   "cell_type": "code",
   "execution_count": null,
   "id": "c38c0832",
   "metadata": {},
   "outputs": [
    {
     "name": "stdout",
     "output_type": "stream",
     "text": [
      "Hello Data Engineering\n"
     ]
    }
   ],
   "source": [
    "greeting = \"Hello Data Engineering\"\n",
    "print(greeting)"
   ]
  },
  {
   "cell_type": "code",
   "execution_count": 2,
   "id": "05fc4526",
   "metadata": {},
   "outputs": [
    {
     "name": "stdout",
     "output_type": "stream",
     "text": [
      "Hello Data EngineeringJOhn\n"
     ]
    }
   ],
   "source": [
    "name = \"JOhn\"\n",
    "message = greeting + name\n",
    "print(message)"
   ]
  },
  {
   "cell_type": "code",
   "execution_count": 3,
   "id": "c64779b1",
   "metadata": {},
   "outputs": [
    {
     "name": "stdout",
     "output_type": "stream",
     "text": [
      "Hi Data Engineering\n"
     ]
    }
   ],
   "source": [
    "new_string = greeting.replace(\"Hello\", \"Hi\")\n",
    "print(new_string)"
   ]
  },
  {
   "cell_type": "code",
   "execution_count": 7,
   "id": "ecc5d264",
   "metadata": {},
   "outputs": [
    {
     "name": "stdout",
     "output_type": "stream",
     "text": [
      "Hello Data Engineering\n"
     ]
    }
   ],
   "source": [
    "sentence = \"      Hello Data Engineering    \"\n",
    "print(sentence.strip())"
   ]
  },
  {
   "cell_type": "code",
   "execution_count": 9,
   "id": "88429e3d",
   "metadata": {},
   "outputs": [
    {
     "name": "stdout",
     "output_type": "stream",
     "text": [
      "6\n"
     ]
    }
   ],
   "source": [
    "index = greeting.find(\"Data\")\n",
    "print(index)"
   ]
  },
  {
   "cell_type": "code",
   "execution_count": 11,
   "id": "383c903f",
   "metadata": {},
   "outputs": [
    {
     "name": "stdout",
     "output_type": "stream",
     "text": [
      "Hello Data Engineering\n"
     ]
    }
   ],
   "source": [
    "template = \"Hello {}\"\n",
    "print(template.format(\"Data Engineering\"))\n"
   ]
  },
  {
   "cell_type": "code",
   "execution_count": 12,
   "id": "38cddb1a",
   "metadata": {},
   "outputs": [
    {
     "name": "stdout",
     "output_type": "stream",
     "text": [
      "HELLO DATA ENGINEERING\n"
     ]
    }
   ],
   "source": [
    "print(greeting.upper())"
   ]
  },
  {
   "cell_type": "code",
   "execution_count": 13,
   "id": "ae0b70dc",
   "metadata": {},
   "outputs": [
    {
     "name": "stdout",
     "output_type": "stream",
     "text": [
      "hello data engineering\n"
     ]
    }
   ],
   "source": [
    "print(greeting.lower())"
   ]
  },
  {
   "cell_type": "code",
   "execution_count": 14,
   "id": "e7515043",
   "metadata": {},
   "outputs": [
    {
     "name": "stdout",
     "output_type": "stream",
     "text": [
      "['Hello', 'Data', 'Engineering']\n"
     ]
    }
   ],
   "source": [
    "words = greeting.split()\n",
    "print(words)"
   ]
  },
  {
   "cell_type": "markdown",
   "id": "9c95e57e",
   "metadata": {},
   "source": [
    "# Error Handling"
   ]
  },
  {
   "cell_type": "code",
   "execution_count": 15,
   "id": "45f2b390",
   "metadata": {},
   "outputs": [
    {
     "ename": "ZeroDivisionError",
     "evalue": "division by zero",
     "output_type": "error",
     "traceback": [
      "\u001b[31m---------------------------------------------------------------------------\u001b[39m",
      "\u001b[31mZeroDivisionError\u001b[39m                         Traceback (most recent call last)",
      "\u001b[36mCell\u001b[39m\u001b[36m \u001b[39m\u001b[32mIn[15]\u001b[39m\u001b[32m, line 1\u001b[39m\n\u001b[32m----> \u001b[39m\u001b[32m1\u001b[39m \u001b[38;5;28mprint\u001b[39m(\u001b[32;43m10\u001b[39;49m\u001b[43m/\u001b[49m\u001b[32;43m0\u001b[39;49m)\n",
      "\u001b[31mZeroDivisionError\u001b[39m: division by zero"
     ]
    }
   ],
   "source": [
    "print(10/0)"
   ]
  },
  {
   "cell_type": "code",
   "execution_count": 16,
   "id": "05428895",
   "metadata": {},
   "outputs": [
    {
     "name": "stdout",
     "output_type": "stream",
     "text": [
      "Sorry You are dividing by zero\n"
     ]
    }
   ],
   "source": [
    "try:\n",
    "    print(10/0)\n",
    "except ZeroDivisionError as e:\n",
    "    print(\"Sorry You are dividing by zero\")"
   ]
  },
  {
   "cell_type": "code",
   "execution_count": 17,
   "id": "56159894",
   "metadata": {},
   "outputs": [
    {
     "name": "stdout",
     "output_type": "stream",
     "text": [
      "Sorry You are dividing by zero\n"
     ]
    }
   ],
   "source": [
    "try:\n",
    "    print(10/0)\n",
    "except:\n",
    "    print(\"Sorry You are dividing by zero\")"
   ]
  },
  {
   "cell_type": "code",
   "execution_count": 18,
   "id": "a7e85d60",
   "metadata": {},
   "outputs": [
    {
     "name": "stdout",
     "output_type": "stream",
     "text": [
      "Sorry You are dividing by zero\n",
      "Execute Always\n"
     ]
    }
   ],
   "source": [
    "try:\n",
    "    print(10/0)\n",
    "except ZeroDivisionError as e:\n",
    "    print(\"Sorry You are dividing by zero\")\n",
    "else:\n",
    "    print(\"Nothing wrong happened\")\n",
    "finally:\n",
    "    print(\"Execute Always\")"
   ]
  },
  {
   "cell_type": "code",
   "execution_count": 19,
   "id": "654a4e1c",
   "metadata": {},
   "outputs": [
    {
     "name": "stdout",
     "output_type": "stream",
     "text": [
      "5.0\n",
      "Nothing wrong happened\n",
      "Execute Always\n"
     ]
    }
   ],
   "source": [
    "try:\n",
    "    print(10/2)\n",
    "except ZeroDivisionError as e:\n",
    "    print(\"Sorry You are dividing by zero\")\n",
    "else:\n",
    "    print(\"Nothing wrong happened\")\n",
    "finally:\n",
    "    print(\"Execute Always\")"
   ]
  },
  {
   "cell_type": "code",
   "execution_count": null,
   "id": "4b3a2621",
   "metadata": {},
   "outputs": [],
   "source": []
  }
 ],
 "metadata": {
  "kernelspec": {
   "display_name": "Python 3",
   "language": "python",
   "name": "python3"
  },
  "language_info": {
   "codemirror_mode": {
    "name": "ipython",
    "version": 3
   },
   "file_extension": ".py",
   "mimetype": "text/x-python",
   "name": "python",
   "nbconvert_exporter": "python",
   "pygments_lexer": "ipython3",
   "version": "3.12.4"
  }
 },
 "nbformat": 4,
 "nbformat_minor": 5
}
